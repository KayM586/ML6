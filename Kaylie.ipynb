{
 "cells": [
  {
   "cell_type": "markdown",
   "metadata": {},
   "source": []
  },
  {
   "cell_type": "code",
   "execution_count": 1,
   "metadata": {},
   "outputs": [],
   "source": [
    "%matplotlib inline\n",
    "\n",
    "import numpy as np\n",
    "import os\n",
    "import matplotlib.pylab as plt\n",
    "import tensorflow as tf\n",
    "import pandas as pd\n",
    "from tensorflow import keras\n",
    "from tensorflow.keras.models import Sequential\n",
    "from tensorflow.keras.layers import Dense, Dropout, Flatten, Activation, BatchNormalization\n",
    "from tensorflow.keras.layers import Conv2D, MaxPooling2D\n",
    "from tensorflow.keras.preprocessing.image import ImageDataGenerator\n",
    "from tensorflow.keras.models import Model\n",
    "from sklearn.model_selection import train_test_split\n",
    "from sklearn.metrics import accuracy_score\n",
    "from tensorflow.keras.preprocessing import image\n",
    "from tensorflow.keras import layers\n",
    "from tensorflow.keras.preprocessing.image import load_img, img_to_array\n",
    "from PIL import Image\n",
    "from keras.utils import to_categorical\n",
    "from sklearn.preprocessing import LabelEncoder\n",
    "from tensorflow.keras.optimizers import Adam\n",
    "from tensorflow.keras.callbacks import EarlyStopping\n",
    "from keras.regularizers import l2"
   ]
  },
  {
   "cell_type": "code",
   "execution_count": 5,
   "metadata": {},
   "outputs": [
    {
     "name": "stdout",
     "output_type": "stream",
     "text": [
      "Number of train images: 28614\n",
      "Number of test images: 7071\n"
     ]
    }
   ],
   "source": [
    "import numpy as np\n",
    "import os\n",
    "import matplotlib.pylab as plt\n",
    "import pandas as pd\n",
    "\n",
    "# locate directories\n",
    "testEmotions = \"testrevised\"\n",
    "trainEmotions = \"trainrevised\"\n",
    "\n",
    "image_directories_test = [\n",
    "    os.path.join(testEmotions, \"angry\"),\n",
    "    os.path.join(testEmotions, \"disgust\"),\n",
    "    os.path.join(testEmotions, \"fear\"),\n",
    "    os.path.join(testEmotions, \"happy\"),\n",
    "    os.path.join(testEmotions, \"neutral\"),\n",
    "    os.path.join(testEmotions, \"sad\"),\n",
    "    os.path.join(testEmotions, \"surprise\")\n",
    "]\n",
    "image_directories_train = [\n",
    "    os.path.join(trainEmotions, \"angry\"),\n",
    "    os.path.join(trainEmotions, \"disgust\"),\n",
    "    os.path.join(trainEmotions, \"fear\"),\n",
    "    os.path.join(trainEmotions, \"happy\"),\n",
    "    os.path.join(trainEmotions, \"neutral\"),\n",
    "    os.path.join(trainEmotions, \"sad\"),\n",
    "    os.path.join(trainEmotions, \"surprise\")\n",
    "]\n",
    "\n",
    "# function to get image paths and the emotion label\n",
    "def get_image_paths_and_labels(image_directories):\n",
    "    image_paths = [] #stores image paths\n",
    "    labels = [] #stores labels\n",
    "\n",
    "    # goes through each of the 7 directories \n",
    "    for i, directory in enumerate(image_directories):\n",
    "        emotion_label = os.path.basename(directory) # captures the emotion label\n",
    "        # goes through each image in each directory\n",
    "        for filename in os.listdir(directory):\n",
    "            if filename.endswith(\".jpg\") or filename.endswith(\".png\"):\n",
    "                image_paths.append(os.path.join(directory, filename)) #appends image path to list\n",
    "                labels.append(emotion_label) # appends emotion label to list\n",
    "\n",
    "    return image_paths, labels\n",
    "\n",
    "# gets image path and label for training and testing set\n",
    "train_image_paths, train_labels = get_image_paths_and_labels(image_directories_train)\n",
    "test_image_paths, test_labels = get_image_paths_and_labels(image_directories_test)\n",
    "\n",
    "print(\"Number of train images:\", len(train_image_paths))\n",
    "print(\"Number of test images:\", len(test_image_paths))\n",
    "\n",
    "#This code came from class Artificial Neural Networks and Deep Learning (last semester)"
   ]
  },
  {
   "cell_type": "code",
   "execution_count": 7,
   "metadata": {},
   "outputs": [
    {
     "name": "stdout",
     "output_type": "stream",
     "text": [
      "Number of images in each emotion category - Training set:\n",
      "angry: 3964\n",
      "disgust: 435\n",
      "fear: 4077\n",
      "happy: 7200\n",
      "neutral: 4951\n",
      "sad: 4823\n",
      "surprise: 3164\n",
      "\n",
      "Number of images in each emotion category - Testing set:\n",
      "angry: 941\n",
      "disgust: 110\n",
      "fear: 1005\n",
      "happy: 1760\n",
      "neutral: 1216\n",
      "sad: 1220\n",
      "surprise: 819\n"
     ]
    }
   ],
   "source": [
    "from collections import Counter\n",
    "\n",
    "# Count the occurrences of each emotion label for train and test sets\n",
    "train_label_counts = Counter(train_labels)\n",
    "test_label_counts = Counter(test_labels)\n",
    "\n",
    "# Print the number of images for each emotion in the train set\n",
    "print(\"Number of images in each emotion category - Training set:\")\n",
    "for emotion, count in train_label_counts.items():\n",
    "    print(f\"{emotion}: {count}\")\n",
    "\n",
    "# Print the number of images for each emotion in the test set\n",
    "print(\"\\nNumber of images in each emotion category - Testing set:\")\n",
    "for emotion, count in test_label_counts.items():\n",
    "    print(f\"{emotion}: {count}\")\n",
    "\n"
   ]
  },
  {
   "cell_type": "code",
   "execution_count": null,
   "metadata": {},
   "outputs": [],
   "source": [
    "def load_and_preprocess_images(image_paths, img_width, img_height):\n",
    "    images = []\n",
    "    for img_path in image_paths:\n",
    "        img = load_img(img_path, target_size=(img_width, img_height))\n",
    "        img_array = img_to_array(img)\n",
    "        images.append(img_array)\n",
    "    return np.array(images)\n",
    "\n",
    "img_width = 48\n",
    "img_height = 48"
   ]
  }
 ],
 "metadata": {
  "kernelspec": {
   "display_name": "mlpython",
   "language": "python",
   "name": "python3"
  },
  "language_info": {
   "codemirror_mode": {
    "name": "ipython",
    "version": 3
   },
   "file_extension": ".py",
   "mimetype": "text/x-python",
   "name": "python",
   "nbconvert_exporter": "python",
   "pygments_lexer": "ipython3",
   "version": "3.8.18"
  },
  "orig_nbformat": 4
 },
 "nbformat": 4,
 "nbformat_minor": 2
}
