{
 "cells": [
  {
   "cell_type": "markdown",
   "metadata": {},
   "source": [
    "# Lab 6: Convolutional Neural Networks\n",
    "\n",
    "### Katherine Wirskye, Lucas Li, Ethan Li, and Kaylie Nguyen (5000-level students)\n",
    "\n",
    "Link to dataset: **insert this shi**\n",
    "\n",
    "## Preparation"
   ]
  },
  {
   "cell_type": "code",
   "execution_count": 12,
   "metadata": {},
   "outputs": [],
   "source": [
    "import numpy as np\n",
    "import os\n",
    "#import matplotlib.pylab as plt\n",
    "import tensorflow as tf\n",
    "#import pandas as pd\n",
    "from tensorflow import keras\n",
    "\n",
    "from tensorflow.keras.preprocessing.image import load_img, img_to_array\n",
    "from sklearn.preprocessing import LabelEncoder\n",
    "from keras.utils import to_categorical\n",
    "\n",
    "from sklearn.model_selection import StratifiedKFold"
   ]
  },
  {
   "cell_type": "code",
   "execution_count": 13,
   "metadata": {},
   "outputs": [
    {
     "name": "stdout",
     "output_type": "stream",
     "text": [
      "Number of images: 35685\n"
     ]
    }
   ],
   "source": [
    "# locate directories\n",
    "folder = \"allimages\"\n",
    "\n",
    "image_directories = [\n",
    "    os.path.join(folder, \"angry\"),\n",
    "    os.path.join(folder, \"disgust\"),\n",
    "    os.path.join(folder, \"fear\"),\n",
    "    os.path.join(folder, \"happy\"),\n",
    "    os.path.join(folder, \"neutral\"),\n",
    "    os.path.join(folder, \"sad\"),\n",
    "    os.path.join(folder, \"surprise\")\n",
    "]\n",
    "\n",
    "# function to get image paths and the emotion label\n",
    "def get_image_paths_and_labels(image_directories):\n",
    "    image_paths = [] #stores image paths\n",
    "    labels = [] #stores labels\n",
    "\n",
    "    # goes through each of the 7 directories \n",
    "    for i, directory in enumerate(image_directories):\n",
    "        emotion_label = os.path.basename(directory) # captures the emotion label\n",
    "        # goes through each image in each directory\n",
    "        for filename in os.listdir(directory):\n",
    "            if filename.endswith(\".jpg\") or filename.endswith(\".png\"):\n",
    "                image_paths.append(os.path.join(directory, filename)) #appends image path to list\n",
    "                labels.append(emotion_label) # appends emotion label to list\n",
    "\n",
    "    return image_paths, labels\n",
    "\n",
    "# gets image path and label for training and testing set\n",
    "image_paths, image_labels = get_image_paths_and_labels(image_directories)\n",
    "\n",
    "print(\"Number of images:\", len(image_paths))"
   ]
  },
  {
   "cell_type": "code",
   "execution_count": 14,
   "metadata": {},
   "outputs": [
    {
     "name": "stdout",
     "output_type": "stream",
     "text": [
      "35685 35685\n"
     ]
    }
   ],
   "source": [
    "def load_and_preprocess_images(image_paths, img_width, img_height):\n",
    "    images = []\n",
    "    for img_path in image_paths:\n",
    "        img = load_img(img_path, target_size=(img_width, img_height))\n",
    "        img_array = img_to_array(img)\n",
    "        images.append(img_array)\n",
    "    return np.array(images)\n",
    "\n",
    "img_width = 48\n",
    "img_height = 48\n",
    "\n",
    "X = load_and_preprocess_images(image_paths, img_width, img_height)\n",
    "\n",
    "label_encoder = LabelEncoder()\n",
    "\n",
    "# Fit and transform the labels for training data\n",
    "labels_encoded = label_encoder.fit_transform(image_labels)\n",
    "\n",
    "# Convert the encoded labels to one-hot encoded vectors\n",
    "y = to_categorical(labels_encoded)\n",
    "\n",
    "print(len(X), len(y))"
   ]
  },
  {
   "cell_type": "markdown",
   "metadata": {},
   "source": [
    "### Performance Metric\n",
    "\n",
    "**discuss choice here**"
   ]
  },
  {
   "cell_type": "markdown",
   "metadata": {},
   "source": [
    "### Data Splitting Method\n",
    "\n",
    "**discuss choice here**"
   ]
  },
  {
   "cell_type": "code",
   "execution_count": 15,
   "metadata": {},
   "outputs": [],
   "source": [
    "# define the 5-fold stratified cross validation\n",
    "skf = StratifiedKFold(n_splits=5, shuffle=True, random_state=1)"
   ]
  },
  {
   "cell_type": "markdown",
   "metadata": {},
   "source": [
    "## Modeling\n",
    "\n",
    "### Data Expansion"
   ]
  },
  {
   "cell_type": "code",
   "execution_count": 16,
   "metadata": {},
   "outputs": [],
   "source": [
    "# Setup the training to use data expansion in Keras (also called data augmentation). \n",
    "# Explain why the chosen data expansion techniques are appropriate for your dataset. \n",
    "# You should make use of Keras augmentation layers, like in the class examples."
   ]
  },
  {
   "cell_type": "markdown",
   "metadata": {},
   "source": [
    "### Model 1"
   ]
  },
  {
   "cell_type": "code",
   "execution_count": 17,
   "metadata": {},
   "outputs": [],
   "source": [
    "# Using stratified k-fold, we call it like this:\n",
    "\n",
    "for train_index, test_index in skf.split(X, labels_encoded):\n",
    "    \n",
    "    # Split the image arrays\n",
    "    X_train, X_test = X[train_index], X[test_index]\n",
    "    # Use original one-hot encoded labels for the model\n",
    "    y_train, y_test = y[train_index], y[test_index]\n",
    "\n",
    "    # do the model here yay!"
   ]
  }
 ],
 "metadata": {
  "kernelspec": {
   "display_name": "mlpython",
   "language": "python",
   "name": "python3"
  },
  "language_info": {
   "codemirror_mode": {
    "name": "ipython",
    "version": 3
   },
   "file_extension": ".py",
   "mimetype": "text/x-python",
   "name": "python",
   "nbconvert_exporter": "python",
   "pygments_lexer": "ipython3",
   "version": "3.8.19"
  },
  "orig_nbformat": 4
 },
 "nbformat": 4,
 "nbformat_minor": 2
}
