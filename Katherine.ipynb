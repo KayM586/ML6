{
 "cells": [
  {
   "cell_type": "markdown",
   "metadata": {},
   "source": [
    "# Lab 6: Convolutional Neural Networks\n",
    "\n",
    "### Katherine Wirskye, Lucas Li, Ethan Li, and Kaylie Nguyen (5000-level students)\n",
    "\n",
    "Link to dataset: **insert this shi**\n",
    "\n",
    "## Preparation"
   ]
  },
  {
   "cell_type": "code",
   "execution_count": 13,
   "metadata": {},
   "outputs": [],
   "source": [
    "import numpy as np\n",
    "import os\n",
    "#import matplotlib.pylab as plt\n",
    "import tensorflow as tf\n",
    "#import pandas as pd\n",
    "from tensorflow import keras\n",
    "\n",
    "from tensorflow.keras.preprocessing.image import load_img, img_to_array\n",
    "from sklearn.preprocessing import LabelEncoder\n",
    "from keras.utils import to_categorical\n",
    "\n",
    "from sklearn.model_selection import StratifiedKFold\n",
    "from sklearn.model_selection import train_test_split\n",
    "\n",
    "from tensorflow.keras.models import Sequential\n",
    "from tensorflow.keras.layers import Dense, Dropout, Flatten, Activation, BatchNormalization\n",
    "from tensorflow.keras.layers import Conv2D, MaxPooling2D\n",
    "# from tensorflow.keras.preprocessing.image import ImageDataGenerator\n",
    "from tensorflow.keras.models import Model\n",
    "# from sklearn.model_selection import train_test_split\n",
    "# from sklearn.metrics import accuracy_score\n",
    "# from tensorflow.keras.preprocessing import image\n",
    "from tensorflow.keras import layers\n",
    "from tensorflow.keras.preprocessing.image import load_img, img_to_array\n",
    "from PIL import Image\n",
    "from keras.utils import to_categorical\n",
    "from sklearn.preprocessing import LabelEncoder\n",
    "# from tensorflow.keras.optimizers import Adam\n",
    "from tensorflow.keras.callbacks import EarlyStopping\n",
    "from keras.regularizers import l2"
   ]
  },
  {
   "cell_type": "code",
   "execution_count": 2,
   "metadata": {},
   "outputs": [
    {
     "name": "stdout",
     "output_type": "stream",
     "text": [
      "Number of images: 35685\n",
      "Number of labels: 35685\n"
     ]
    }
   ],
   "source": [
    "# locate directories\n",
    "folder = \"allimages\"\n",
    "\n",
    "image_directories = [\n",
    "    os.path.join(folder, \"angry\"),\n",
    "    os.path.join(folder, \"disgust\"),\n",
    "    os.path.join(folder, \"fear\"),\n",
    "    os.path.join(folder, \"happy\"),\n",
    "    os.path.join(folder, \"neutral\"),\n",
    "    os.path.join(folder, \"sad\"),\n",
    "    os.path.join(folder, \"surprise\")\n",
    "]\n",
    "\n",
    "# function to get image paths and the emotion label\n",
    "def get_image_paths_and_labels(image_directories):\n",
    "    image_paths = [] #stores image paths\n",
    "    labels = [] #stores labels\n",
    "\n",
    "    # goes through each of the 7 directories \n",
    "    for i, directory in enumerate(image_directories):\n",
    "        emotion_label = os.path.basename(directory) # captures the emotion label\n",
    "        # goes through each image in each directory\n",
    "        for filename in os.listdir(directory):\n",
    "            if filename.endswith(\".jpg\") or filename.endswith(\".png\"):\n",
    "                image_paths.append(os.path.join(directory, filename)) #appends image path to list\n",
    "                labels.append(emotion_label) # appends emotion label to list\n",
    "\n",
    "    return image_paths, labels\n",
    "\n",
    "# gets image path and label for training and testing set\n",
    "image_paths, image_labels = get_image_paths_and_labels(image_directories)\n",
    "\n",
    "print(\"Number of images:\", len(image_paths))\n",
    "print(\"Number of labels:\", len(image_labels))"
   ]
  },
  {
   "cell_type": "code",
   "execution_count": 3,
   "metadata": {},
   "outputs": [
    {
     "name": "stdout",
     "output_type": "stream",
     "text": [
      "35685 35685\n"
     ]
    }
   ],
   "source": [
    "def load_and_preprocess_images(image_paths, img_width, img_height):\n",
    "    images = []\n",
    "    for img_path in image_paths:\n",
    "        img = load_img(img_path, target_size=(img_width, img_height))\n",
    "        img_array = img_to_array(img)\n",
    "        images.append(img_array)\n",
    "    return np.array(images)\n",
    "\n",
    "img_width = 48\n",
    "img_height = 48\n",
    "\n",
    "X = load_and_preprocess_images(image_paths, img_width, img_height)\n",
    "\n",
    "label_encoder = LabelEncoder()\n",
    "\n",
    "# Fit and transform the labels for training data\n",
    "labels_encoded = label_encoder.fit_transform(image_labels)\n",
    "\n",
    "# Convert the encoded labels to one-hot encoded vectors\n",
    "y = to_categorical(labels_encoded)\n",
    "\n",
    "print(len(X), len(y))"
   ]
  },
  {
   "cell_type": "markdown",
   "metadata": {},
   "source": [
    "### Performance Metric\n",
    "\n",
    "**discuss choice here**"
   ]
  },
  {
   "cell_type": "markdown",
   "metadata": {},
   "source": [
    "### Data Splitting Method\n",
    "\n",
    "**discuss choice here**"
   ]
  },
  {
   "cell_type": "code",
   "execution_count": 11,
   "metadata": {},
   "outputs": [],
   "source": [
    "# define the 5-fold stratified cross validation\n",
    "skf = StratifiedKFold(n_splits=5, shuffle=True, random_state=1)"
   ]
  },
  {
   "cell_type": "markdown",
   "metadata": {},
   "source": [
    "## Modeling\n",
    "\n",
    "### Data Expansion"
   ]
  },
  {
   "cell_type": "code",
   "execution_count": 28,
   "metadata": {},
   "outputs": [],
   "source": [
    "# Setup the training to use data expansion in Keras (also called data augmentation). \n",
    "# Explain why the chosen data expansion techniques are appropriate for your dataset. \n",
    "# You should make use of Keras augmentation layers, like in the class examples."
   ]
  },
  {
   "cell_type": "markdown",
   "metadata": {},
   "source": [
    "### Model 1"
   ]
  },
  {
   "cell_type": "code",
   "execution_count": 14,
   "metadata": {},
   "outputs": [
    {
     "name": "stdout",
     "output_type": "stream",
     "text": [
      "Epoch 1/20\n",
      "714/714 [==============================] - 35s 49ms/step - loss: 1.5208 - accuracy: 0.3773 - val_loss: 4.1672 - val_accuracy: 0.0000e+00\n",
      "Epoch 2/20\n",
      "714/714 [==============================] - 34s 48ms/step - loss: 1.3215 - accuracy: 0.4788 - val_loss: 7.6788 - val_accuracy: 0.0000e+00\n",
      "Epoch 3/20\n",
      "714/714 [==============================] - 37s 52ms/step - loss: 1.2306 - accuracy: 0.5216 - val_loss: 8.6369 - val_accuracy: 0.0012\n",
      "Epoch 4/20\n",
      "714/714 [==============================] - 37s 52ms/step - loss: 1.1545 - accuracy: 0.5538 - val_loss: 9.4506 - val_accuracy: 0.0184\n",
      "Epoch 5/20\n",
      "714/714 [==============================] - 39s 54ms/step - loss: 1.1013 - accuracy: 0.5780 - val_loss: 10.1654 - val_accuracy: 0.0075\n",
      "Epoch 6/20\n",
      "714/714 [==============================] - 39s 54ms/step - loss: 1.0410 - accuracy: 0.6021 - val_loss: 12.9500 - val_accuracy: 0.0336\n",
      "Epoch 7/20\n",
      "714/714 [==============================] - 38s 53ms/step - loss: 0.9858 - accuracy: 0.6259 - val_loss: 14.2554 - val_accuracy: 0.0431\n",
      "Epoch 8/20\n",
      "714/714 [==============================] - 38s 53ms/step - loss: 0.9146 - accuracy: 0.6525 - val_loss: 17.8315 - val_accuracy: 0.0503\n",
      "224/224 [==============================] - 3s 15ms/step - loss: 2.0320 - accuracy: 0.3183\n",
      "Test Loss:  2.0320253372192383\n",
      "Test Accuracy: 0.31834104657173157\n"
     ]
    }
   ],
   "source": [
    "# Using stratified k-fold, we call it like this:\n",
    "\n",
    "for train_index, test_index in skf.split(X, labels_encoded):\n",
    "    \n",
    "    # Split the image arrays\n",
    "    X_train, X_test = X[train_index], X[test_index]\n",
    "    # Use one-hot encoded labels for the model\n",
    "    y_train, y_test = y[train_index], y[test_index]\n",
    "\n",
    "    # do the model here yay!\n",
    "\n",
    "    # Kaylie's code yay!\n",
    "    # build a model\n",
    "    input_shape = (img_width, img_height, 3)\n",
    "\n",
    "    model = Sequential([\n",
    "        Conv2D(filters=64, kernel_size=3, strides=(1, 1), padding='valid', activation='relu', input_shape=input_shape),\n",
    "        MaxPooling2D(pool_size=(2, 2), strides=2),\n",
    "        BatchNormalization(),\n",
    "        Conv2D(filters=64, kernel_size=3, strides=(1, 1), padding='valid', activation='relu'),\n",
    "        MaxPooling2D(pool_size=(2, 2), strides=2),\n",
    "        BatchNormalization(),\n",
    "        Conv2D(filters=128, kernel_size=3, strides=(1, 1), padding='valid', activation='relu'),\n",
    "        Conv2D(filters=256, kernel_size=3, strides=(1, 1), padding='valid', activation='relu'),\n",
    "        MaxPooling2D(pool_size=(2, 2), strides=2),\n",
    "        Flatten(),\n",
    "        Dense(1024, activation = 'relu'),\n",
    "        Dense(512, activation = 'relu'),\n",
    "        Dropout(0.5),\n",
    "        Dense(128, activation='relu'),\n",
    "        Dropout(0.25),\n",
    "        Dense(7, activation='softmax')\n",
    "    ])\n",
    "\n",
    "    epochs = 20\n",
    "    batch_size = 32\n",
    "\n",
    "    model.compile(optimizer='adam', loss='categorical_crossentropy', metrics=['accuracy'])\n",
    "    model.fit(X_train, y_train, epochs=epochs, batch_size=batch_size, validation_split=0.2)\n",
    "    test_loss, test_accuracy = model.evaluate(X_test, y_test)\n",
    "    print('Test Loss: ', test_loss)\n",
    "    print(\"Test Accuracy:\", test_accuracy)\n",
    "\n",
    "    # breaking for now so that we don't waste time running it a billion times (actually only five times LOLLLLL)\n",
    "    break"
   ]
  }
 ],
 "metadata": {
  "kernelspec": {
   "display_name": "mlpython",
   "language": "python",
   "name": "python3"
  },
  "language_info": {
   "codemirror_mode": {
    "name": "ipython",
    "version": 3
   },
   "file_extension": ".py",
   "mimetype": "text/x-python",
   "name": "python",
   "nbconvert_exporter": "python",
   "pygments_lexer": "ipython3",
   "version": "3.8.19"
  },
  "orig_nbformat": 4
 },
 "nbformat": 4,
 "nbformat_minor": 2
}
