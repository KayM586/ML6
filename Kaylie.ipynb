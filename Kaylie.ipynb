{
 "cells": [
  {
   "cell_type": "markdown",
   "metadata": {},
   "source": []
  },
  {
   "cell_type": "code",
   "execution_count": 1,
   "metadata": {},
   "outputs": [
    {
     "ename": "FileNotFoundError",
     "evalue": "[Errno 2] No such file or directory: 'trainrevised/angry'",
     "output_type": "error",
     "traceback": [
      "\u001b[0;31m---------------------------------------------------------------------------\u001b[0m",
      "\u001b[0;31mFileNotFoundError\u001b[0m                         Traceback (most recent call last)",
      "Cell \u001b[0;32mIn[1], line 46\u001b[0m\n\u001b[1;32m     43\u001b[0m     \u001b[39mreturn\u001b[39;00m image_paths, labels\n\u001b[1;32m     45\u001b[0m \u001b[39m# gets image path and label for training and testing set\u001b[39;00m\n\u001b[0;32m---> 46\u001b[0m train_image_paths, train_labels \u001b[39m=\u001b[39m get_image_paths_and_labels(image_directories_train)\n\u001b[1;32m     47\u001b[0m test_image_paths, test_labels \u001b[39m=\u001b[39m get_image_paths_and_labels(image_directories_test)\n\u001b[1;32m     49\u001b[0m \u001b[39mprint\u001b[39m(\u001b[39m\"\u001b[39m\u001b[39mNumber of train images:\u001b[39m\u001b[39m\"\u001b[39m, \u001b[39mlen\u001b[39m(train_image_paths))\n",
      "Cell \u001b[0;32mIn[1], line 38\u001b[0m, in \u001b[0;36mget_image_paths_and_labels\u001b[0;34m(image_directories)\u001b[0m\n\u001b[1;32m     36\u001b[0m emotion_label \u001b[39m=\u001b[39m os\u001b[39m.\u001b[39mpath\u001b[39m.\u001b[39mbasename(directory) \u001b[39m# captures the emotion label\u001b[39;00m\n\u001b[1;32m     37\u001b[0m \u001b[39m# goes through each image in each directory\u001b[39;00m\n\u001b[0;32m---> 38\u001b[0m \u001b[39mfor\u001b[39;00m filename \u001b[39min\u001b[39;00m os\u001b[39m.\u001b[39;49mlistdir(directory):\n\u001b[1;32m     39\u001b[0m     \u001b[39mif\u001b[39;00m filename\u001b[39m.\u001b[39mendswith(\u001b[39m\"\u001b[39m\u001b[39m.jpg\u001b[39m\u001b[39m\"\u001b[39m) \u001b[39mor\u001b[39;00m filename\u001b[39m.\u001b[39mendswith(\u001b[39m\"\u001b[39m\u001b[39m.png\u001b[39m\u001b[39m\"\u001b[39m):\n\u001b[1;32m     40\u001b[0m         image_paths\u001b[39m.\u001b[39mappend(os\u001b[39m.\u001b[39mpath\u001b[39m.\u001b[39mjoin(directory, filename)) \u001b[39m#appends image path to list\u001b[39;00m\n",
      "\u001b[0;31mFileNotFoundError\u001b[0m: [Errno 2] No such file or directory: 'trainrevised/angry'"
     ]
    }
   ],
   "source": [
    "import numpy as np\n",
    "import os\n",
    "import matplotlib.pylab as plt\n",
    "import pandas as pd\n",
    "\n",
    "# locate directories\n",
    "testEmotions = \"testrevised\"\n",
    "trainEmotions = \"trainrevised\"\n",
    "\n",
    "image_directories_test = [\n",
    "    os.path.join(testEmotions, \"angry\"),\n",
    "    os.path.join(testEmotions, \"disgust\"),\n",
    "    os.path.join(testEmotions, \"fear\"),\n",
    "    os.path.join(testEmotions, \"happy\"),\n",
    "    os.path.join(testEmotions, \"neutral\"),\n",
    "    os.path.join(testEmotions, \"sad\"),\n",
    "    os.path.join(testEmotions, \"surprise\")\n",
    "]\n",
    "image_directories_train = [\n",
    "    os.path.join(trainEmotions, \"angry\"),\n",
    "    os.path.join(trainEmotions, \"disgust\"),\n",
    "    os.path.join(trainEmotions, \"fear\"),\n",
    "    os.path.join(trainEmotions, \"happy\"),\n",
    "    os.path.join(trainEmotions, \"neutral\"),\n",
    "    os.path.join(trainEmotions, \"sad\"),\n",
    "    os.path.join(trainEmotions, \"surprise\")\n",
    "]\n",
    "\n",
    "# function to get image paths and the emotion label\n",
    "def get_image_paths_and_labels(image_directories):\n",
    "    image_paths = [] #stores image paths\n",
    "    labels = [] #stores labels\n",
    "\n",
    "    # goes through each of the 7 directories \n",
    "    for i, directory in enumerate(image_directories):\n",
    "        emotion_label = os.path.basename(directory) # captures the emotion label\n",
    "        # goes through each image in each directory\n",
    "        for filename in os.listdir(directory):\n",
    "            if filename.endswith(\".jpg\") or filename.endswith(\".png\"):\n",
    "                image_paths.append(os.path.join(directory, filename)) #appends image path to list\n",
    "                labels.append(emotion_label) # appends emotion label to list\n",
    "\n",
    "    return image_paths, labels\n",
    "\n",
    "# gets image path and label for training and testing set\n",
    "train_image_paths, train_labels = get_image_paths_and_labels(image_directories_train)\n",
    "test_image_paths, test_labels = get_image_paths_and_labels(image_directories_test)\n",
    "\n",
    "print(\"Number of train images:\", len(train_image_paths))\n",
    "print(\"Number of test images:\", len(test_image_paths))\n",
    "\n",
    "#This code came from class Artificial Neural Networks and Deep Learning (last semester)"
   ]
  }
 ],
 "metadata": {
  "kernelspec": {
   "display_name": "mlpython",
   "language": "python",
   "name": "python3"
  },
  "language_info": {
   "codemirror_mode": {
    "name": "ipython",
    "version": 3
   },
   "file_extension": ".py",
   "mimetype": "text/x-python",
   "name": "python",
   "nbconvert_exporter": "python",
   "pygments_lexer": "ipython3",
   "version": "3.8.18"
  },
  "orig_nbformat": 4
 },
 "nbformat": 4,
 "nbformat_minor": 2
}
